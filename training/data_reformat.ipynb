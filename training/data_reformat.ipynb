{
  "cells": [
    {
      "cell_type": "markdown",
      "metadata": {
        "id": "XyyItpZAbcPJ"
      },
      "source": [
        "# Setting & Load Data"
      ]
    },
    {
      "cell_type": "code",
      "execution_count": 1,
      "metadata": {
        "id": "zFKPmNV747_7"
      },
      "outputs": [],
      "source": [
        "import pandas as pd\n",
        "\n",
        "from tqdm.notebook import tqdm\n",
        "import pickle"
      ]
    },
    {
      "cell_type": "code",
      "source": [
        "from google.colab import drive\n",
        "drive.mount('/content/drive')"
      ],
      "metadata": {
        "colab": {
          "base_uri": "https://localhost:8080/"
        },
        "id": "5oDAZ6cOAFAr",
        "outputId": "185c0993-b7f7-42da-cd6a-47efbd4c27d5"
      },
      "execution_count": 2,
      "outputs": [
        {
          "output_type": "stream",
          "name": "stdout",
          "text": [
            "Mounted at /content/drive\n"
          ]
        }
      ]
    },
    {
      "cell_type": "code",
      "execution_count": 3,
      "metadata": {
        "id": "jbUsUiT1L-LV"
      },
      "outputs": [],
      "source": [
        "train_path = '/content/drive/MyDrive/메인프로젝트(5조)/chat_bot/data/증강결과/호그와트_qna_origin_sim_movie_qin_sy.xlsx'\n",
        "val_path = '/content/drive/MyDrive/메인프로젝트(5조)/chat_bot/data/증강결과/호그와트_qna_origin_sim_movie_qin_sy.xlsx'\n",
        "\n",
        "train_df = pd.read_excel(train_path)\n",
        "val_df = pd.read_excel(val_path)"
      ]
    },
    {
      "cell_type": "code",
      "execution_count": 4,
      "metadata": {
        "colab": {
          "base_uri": "https://localhost:8080/"
        },
        "id": "LaSqHyn7bmpe",
        "outputId": "ed8a3d4e-28b8-4de2-9374-6fd170a2eda6"
      },
      "outputs": [
        {
          "output_type": "stream",
          "name": "stdout",
          "text": [
            "(6538, 4) (6538, 4)\n"
          ]
        }
      ],
      "source": [
        "print(train_df.shape, val_df.shape)"
      ]
    },
    {
      "cell_type": "code",
      "execution_count": 5,
      "metadata": {
        "colab": {
          "base_uri": "https://localhost:8080/"
        },
        "id": "Wb0bh5otrJoZ",
        "outputId": "769cb8ea-8ec5-4c2b-fbaa-11c9ea6e36f4"
      },
      "outputs": [
        {
          "output_type": "stream",
          "name": "stdout",
          "text": [
            "<class 'pandas.core.frame.DataFrame'>\n",
            "RangeIndex: 6538 entries, 0 to 6537\n",
            "Data columns (total 4 columns):\n",
            " #   Column    Non-Null Count  Dtype \n",
            "---  ------    --------------  ----- \n",
            " 0   index     6538 non-null   int64 \n",
            " 1   category  6538 non-null   object\n",
            " 2   question  6538 non-null   object\n",
            " 3   answer    6538 non-null   object\n",
            "dtypes: int64(1), object(3)\n",
            "memory usage: 204.4+ KB\n"
          ]
        }
      ],
      "source": [
        "train_df.info()"
      ]
    },
    {
      "cell_type": "code",
      "execution_count": 6,
      "metadata": {
        "colab": {
          "base_uri": "https://localhost:8080/",
          "height": 206
        },
        "id": "dCOpTfpKr3Qn",
        "outputId": "9cc5d0d4-fc1c-4284-e43f-c19fa7eecfe2"
      },
      "outputs": [
        {
          "output_type": "execute_result",
          "data": {
            "text/plain": [
              "   index category                       question  \\\n",
              "0      1       원본                  호그와트는 어떤 학교야?   \n",
              "1      2       원본                 호그와트는 언제 설립됐어?   \n",
              "2      3       원본              호그와트로 가는 방법을 알려줘.   \n",
              "3      4       원본  입학허가서를 받지 않은 머글들에게 호그와트가 보일까?   \n",
              "4      5       원본                호그와트는 안전한 장소일까?   \n",
              "\n",
              "                                              answer  \n",
              "0     만 11~18세까지의 청소년 마법사를 교육하는 7학년제 영국의 유일한 마법 학교야.  \n",
              "1  호그와트는 990년대에 고드릭 그리핀도르, 헬가 후플푸프, 로위너 래번클로, 살라자...  \n",
              "2        호그와트를 가려면 킹스 크로스역 9와 4분의3 승강장에서 기차를 타고 가야해.  \n",
              "3  허락받지 않은 머글들에게는 보이지 않아. 호그와트 앞을 지나가려고 하면 다 쓰려져가...  \n",
              "4  호그와트는 기본적으로 학생의 안전을 매우 중요시하기 때문에 온갖 방어마법이나 고대 ...  "
            ],
            "text/html": [
              "\n",
              "  <div id=\"df-5bfdfc72-8d25-4886-ba6e-0cd951ef1b7a\">\n",
              "    <div class=\"colab-df-container\">\n",
              "      <div>\n",
              "<style scoped>\n",
              "    .dataframe tbody tr th:only-of-type {\n",
              "        vertical-align: middle;\n",
              "    }\n",
              "\n",
              "    .dataframe tbody tr th {\n",
              "        vertical-align: top;\n",
              "    }\n",
              "\n",
              "    .dataframe thead th {\n",
              "        text-align: right;\n",
              "    }\n",
              "</style>\n",
              "<table border=\"1\" class=\"dataframe\">\n",
              "  <thead>\n",
              "    <tr style=\"text-align: right;\">\n",
              "      <th></th>\n",
              "      <th>index</th>\n",
              "      <th>category</th>\n",
              "      <th>question</th>\n",
              "      <th>answer</th>\n",
              "    </tr>\n",
              "  </thead>\n",
              "  <tbody>\n",
              "    <tr>\n",
              "      <th>0</th>\n",
              "      <td>1</td>\n",
              "      <td>원본</td>\n",
              "      <td>호그와트는 어떤 학교야?</td>\n",
              "      <td>만 11~18세까지의 청소년 마법사를 교육하는 7학년제 영국의 유일한 마법 학교야.</td>\n",
              "    </tr>\n",
              "    <tr>\n",
              "      <th>1</th>\n",
              "      <td>2</td>\n",
              "      <td>원본</td>\n",
              "      <td>호그와트는 언제 설립됐어?</td>\n",
              "      <td>호그와트는 990년대에 고드릭 그리핀도르, 헬가 후플푸프, 로위너 래번클로, 살라자...</td>\n",
              "    </tr>\n",
              "    <tr>\n",
              "      <th>2</th>\n",
              "      <td>3</td>\n",
              "      <td>원본</td>\n",
              "      <td>호그와트로 가는 방법을 알려줘.</td>\n",
              "      <td>호그와트를 가려면 킹스 크로스역 9와 4분의3 승강장에서 기차를 타고 가야해.</td>\n",
              "    </tr>\n",
              "    <tr>\n",
              "      <th>3</th>\n",
              "      <td>4</td>\n",
              "      <td>원본</td>\n",
              "      <td>입학허가서를 받지 않은 머글들에게 호그와트가 보일까?</td>\n",
              "      <td>허락받지 않은 머글들에게는 보이지 않아. 호그와트 앞을 지나가려고 하면 다 쓰려져가...</td>\n",
              "    </tr>\n",
              "    <tr>\n",
              "      <th>4</th>\n",
              "      <td>5</td>\n",
              "      <td>원본</td>\n",
              "      <td>호그와트는 안전한 장소일까?</td>\n",
              "      <td>호그와트는 기본적으로 학생의 안전을 매우 중요시하기 때문에 온갖 방어마법이나 고대 ...</td>\n",
              "    </tr>\n",
              "  </tbody>\n",
              "</table>\n",
              "</div>\n",
              "      <button class=\"colab-df-convert\" onclick=\"convertToInteractive('df-5bfdfc72-8d25-4886-ba6e-0cd951ef1b7a')\"\n",
              "              title=\"Convert this dataframe to an interactive table.\"\n",
              "              style=\"display:none;\">\n",
              "        \n",
              "  <svg xmlns=\"http://www.w3.org/2000/svg\" height=\"24px\"viewBox=\"0 0 24 24\"\n",
              "       width=\"24px\">\n",
              "    <path d=\"M0 0h24v24H0V0z\" fill=\"none\"/>\n",
              "    <path d=\"M18.56 5.44l.94 2.06.94-2.06 2.06-.94-2.06-.94-.94-2.06-.94 2.06-2.06.94zm-11 1L8.5 8.5l.94-2.06 2.06-.94-2.06-.94L8.5 2.5l-.94 2.06-2.06.94zm10 10l.94 2.06.94-2.06 2.06-.94-2.06-.94-.94-2.06-.94 2.06-2.06.94z\"/><path d=\"M17.41 7.96l-1.37-1.37c-.4-.4-.92-.59-1.43-.59-.52 0-1.04.2-1.43.59L10.3 9.45l-7.72 7.72c-.78.78-.78 2.05 0 2.83L4 21.41c.39.39.9.59 1.41.59.51 0 1.02-.2 1.41-.59l7.78-7.78 2.81-2.81c.8-.78.8-2.07 0-2.86zM5.41 20L4 18.59l7.72-7.72 1.47 1.35L5.41 20z\"/>\n",
              "  </svg>\n",
              "      </button>\n",
              "      \n",
              "  <style>\n",
              "    .colab-df-container {\n",
              "      display:flex;\n",
              "      flex-wrap:wrap;\n",
              "      gap: 12px;\n",
              "    }\n",
              "\n",
              "    .colab-df-convert {\n",
              "      background-color: #E8F0FE;\n",
              "      border: none;\n",
              "      border-radius: 50%;\n",
              "      cursor: pointer;\n",
              "      display: none;\n",
              "      fill: #1967D2;\n",
              "      height: 32px;\n",
              "      padding: 0 0 0 0;\n",
              "      width: 32px;\n",
              "    }\n",
              "\n",
              "    .colab-df-convert:hover {\n",
              "      background-color: #E2EBFA;\n",
              "      box-shadow: 0px 1px 2px rgba(60, 64, 67, 0.3), 0px 1px 3px 1px rgba(60, 64, 67, 0.15);\n",
              "      fill: #174EA6;\n",
              "    }\n",
              "\n",
              "    [theme=dark] .colab-df-convert {\n",
              "      background-color: #3B4455;\n",
              "      fill: #D2E3FC;\n",
              "    }\n",
              "\n",
              "    [theme=dark] .colab-df-convert:hover {\n",
              "      background-color: #434B5C;\n",
              "      box-shadow: 0px 1px 3px 1px rgba(0, 0, 0, 0.15);\n",
              "      filter: drop-shadow(0px 1px 2px rgba(0, 0, 0, 0.3));\n",
              "      fill: #FFFFFF;\n",
              "    }\n",
              "  </style>\n",
              "\n",
              "      <script>\n",
              "        const buttonEl =\n",
              "          document.querySelector('#df-5bfdfc72-8d25-4886-ba6e-0cd951ef1b7a button.colab-df-convert');\n",
              "        buttonEl.style.display =\n",
              "          google.colab.kernel.accessAllowed ? 'block' : 'none';\n",
              "\n",
              "        async function convertToInteractive(key) {\n",
              "          const element = document.querySelector('#df-5bfdfc72-8d25-4886-ba6e-0cd951ef1b7a');\n",
              "          const dataTable =\n",
              "            await google.colab.kernel.invokeFunction('convertToInteractive',\n",
              "                                                     [key], {});\n",
              "          if (!dataTable) return;\n",
              "\n",
              "          const docLinkHtml = 'Like what you see? Visit the ' +\n",
              "            '<a target=\"_blank\" href=https://colab.research.google.com/notebooks/data_table.ipynb>data table notebook</a>'\n",
              "            + ' to learn more about interactive tables.';\n",
              "          element.innerHTML = '';\n",
              "          dataTable['output_type'] = 'display_data';\n",
              "          await google.colab.output.renderOutput(dataTable, element);\n",
              "          const docLink = document.createElement('div');\n",
              "          docLink.innerHTML = docLinkHtml;\n",
              "          element.appendChild(docLink);\n",
              "        }\n",
              "      </script>\n",
              "    </div>\n",
              "  </div>\n",
              "  "
            ]
          },
          "metadata": {},
          "execution_count": 6
        }
      ],
      "source": [
        "train_df.head()"
      ]
    },
    {
      "cell_type": "code",
      "execution_count": 7,
      "metadata": {
        "colab": {
          "base_uri": "https://localhost:8080/",
          "height": 206
        },
        "id": "70VooLCYPeSt",
        "outputId": "60e9bc28-ce2d-4bd7-e6ee-bb7d46ba7d33"
      },
      "outputs": [
        {
          "output_type": "execute_result",
          "data": {
            "text/plain": [
              "   index category                       question  \\\n",
              "0      1       원본                  호그와트는 어떤 학교야?   \n",
              "1      2       원본                 호그와트는 언제 설립됐어?   \n",
              "2      3       원본              호그와트로 가는 방법을 알려줘.   \n",
              "3      4       원본  입학허가서를 받지 않은 머글들에게 호그와트가 보일까?   \n",
              "4      5       원본                호그와트는 안전한 장소일까?   \n",
              "\n",
              "                                              answer  \n",
              "0     만 11~18세까지의 청소년 마법사를 교육하는 7학년제 영국의 유일한 마법 학교야.  \n",
              "1  호그와트는 990년대에 고드릭 그리핀도르, 헬가 후플푸프, 로위너 래번클로, 살라자...  \n",
              "2        호그와트를 가려면 킹스 크로스역 9와 4분의3 승강장에서 기차를 타고 가야해.  \n",
              "3  허락받지 않은 머글들에게는 보이지 않아. 호그와트 앞을 지나가려고 하면 다 쓰려져가...  \n",
              "4  호그와트는 기본적으로 학생의 안전을 매우 중요시하기 때문에 온갖 방어마법이나 고대 ...  "
            ],
            "text/html": [
              "\n",
              "  <div id=\"df-40cf5b5f-c9d8-4e88-aeba-5d7025ea6c8b\">\n",
              "    <div class=\"colab-df-container\">\n",
              "      <div>\n",
              "<style scoped>\n",
              "    .dataframe tbody tr th:only-of-type {\n",
              "        vertical-align: middle;\n",
              "    }\n",
              "\n",
              "    .dataframe tbody tr th {\n",
              "        vertical-align: top;\n",
              "    }\n",
              "\n",
              "    .dataframe thead th {\n",
              "        text-align: right;\n",
              "    }\n",
              "</style>\n",
              "<table border=\"1\" class=\"dataframe\">\n",
              "  <thead>\n",
              "    <tr style=\"text-align: right;\">\n",
              "      <th></th>\n",
              "      <th>index</th>\n",
              "      <th>category</th>\n",
              "      <th>question</th>\n",
              "      <th>answer</th>\n",
              "    </tr>\n",
              "  </thead>\n",
              "  <tbody>\n",
              "    <tr>\n",
              "      <th>0</th>\n",
              "      <td>1</td>\n",
              "      <td>원본</td>\n",
              "      <td>호그와트는 어떤 학교야?</td>\n",
              "      <td>만 11~18세까지의 청소년 마법사를 교육하는 7학년제 영국의 유일한 마법 학교야.</td>\n",
              "    </tr>\n",
              "    <tr>\n",
              "      <th>1</th>\n",
              "      <td>2</td>\n",
              "      <td>원본</td>\n",
              "      <td>호그와트는 언제 설립됐어?</td>\n",
              "      <td>호그와트는 990년대에 고드릭 그리핀도르, 헬가 후플푸프, 로위너 래번클로, 살라자...</td>\n",
              "    </tr>\n",
              "    <tr>\n",
              "      <th>2</th>\n",
              "      <td>3</td>\n",
              "      <td>원본</td>\n",
              "      <td>호그와트로 가는 방법을 알려줘.</td>\n",
              "      <td>호그와트를 가려면 킹스 크로스역 9와 4분의3 승강장에서 기차를 타고 가야해.</td>\n",
              "    </tr>\n",
              "    <tr>\n",
              "      <th>3</th>\n",
              "      <td>4</td>\n",
              "      <td>원본</td>\n",
              "      <td>입학허가서를 받지 않은 머글들에게 호그와트가 보일까?</td>\n",
              "      <td>허락받지 않은 머글들에게는 보이지 않아. 호그와트 앞을 지나가려고 하면 다 쓰려져가...</td>\n",
              "    </tr>\n",
              "    <tr>\n",
              "      <th>4</th>\n",
              "      <td>5</td>\n",
              "      <td>원본</td>\n",
              "      <td>호그와트는 안전한 장소일까?</td>\n",
              "      <td>호그와트는 기본적으로 학생의 안전을 매우 중요시하기 때문에 온갖 방어마법이나 고대 ...</td>\n",
              "    </tr>\n",
              "  </tbody>\n",
              "</table>\n",
              "</div>\n",
              "      <button class=\"colab-df-convert\" onclick=\"convertToInteractive('df-40cf5b5f-c9d8-4e88-aeba-5d7025ea6c8b')\"\n",
              "              title=\"Convert this dataframe to an interactive table.\"\n",
              "              style=\"display:none;\">\n",
              "        \n",
              "  <svg xmlns=\"http://www.w3.org/2000/svg\" height=\"24px\"viewBox=\"0 0 24 24\"\n",
              "       width=\"24px\">\n",
              "    <path d=\"M0 0h24v24H0V0z\" fill=\"none\"/>\n",
              "    <path d=\"M18.56 5.44l.94 2.06.94-2.06 2.06-.94-2.06-.94-.94-2.06-.94 2.06-2.06.94zm-11 1L8.5 8.5l.94-2.06 2.06-.94-2.06-.94L8.5 2.5l-.94 2.06-2.06.94zm10 10l.94 2.06.94-2.06 2.06-.94-2.06-.94-.94-2.06-.94 2.06-2.06.94z\"/><path d=\"M17.41 7.96l-1.37-1.37c-.4-.4-.92-.59-1.43-.59-.52 0-1.04.2-1.43.59L10.3 9.45l-7.72 7.72c-.78.78-.78 2.05 0 2.83L4 21.41c.39.39.9.59 1.41.59.51 0 1.02-.2 1.41-.59l7.78-7.78 2.81-2.81c.8-.78.8-2.07 0-2.86zM5.41 20L4 18.59l7.72-7.72 1.47 1.35L5.41 20z\"/>\n",
              "  </svg>\n",
              "      </button>\n",
              "      \n",
              "  <style>\n",
              "    .colab-df-container {\n",
              "      display:flex;\n",
              "      flex-wrap:wrap;\n",
              "      gap: 12px;\n",
              "    }\n",
              "\n",
              "    .colab-df-convert {\n",
              "      background-color: #E8F0FE;\n",
              "      border: none;\n",
              "      border-radius: 50%;\n",
              "      cursor: pointer;\n",
              "      display: none;\n",
              "      fill: #1967D2;\n",
              "      height: 32px;\n",
              "      padding: 0 0 0 0;\n",
              "      width: 32px;\n",
              "    }\n",
              "\n",
              "    .colab-df-convert:hover {\n",
              "      background-color: #E2EBFA;\n",
              "      box-shadow: 0px 1px 2px rgba(60, 64, 67, 0.3), 0px 1px 3px 1px rgba(60, 64, 67, 0.15);\n",
              "      fill: #174EA6;\n",
              "    }\n",
              "\n",
              "    [theme=dark] .colab-df-convert {\n",
              "      background-color: #3B4455;\n",
              "      fill: #D2E3FC;\n",
              "    }\n",
              "\n",
              "    [theme=dark] .colab-df-convert:hover {\n",
              "      background-color: #434B5C;\n",
              "      box-shadow: 0px 1px 3px 1px rgba(0, 0, 0, 0.15);\n",
              "      filter: drop-shadow(0px 1px 2px rgba(0, 0, 0, 0.3));\n",
              "      fill: #FFFFFF;\n",
              "    }\n",
              "  </style>\n",
              "\n",
              "      <script>\n",
              "        const buttonEl =\n",
              "          document.querySelector('#df-40cf5b5f-c9d8-4e88-aeba-5d7025ea6c8b button.colab-df-convert');\n",
              "        buttonEl.style.display =\n",
              "          google.colab.kernel.accessAllowed ? 'block' : 'none';\n",
              "\n",
              "        async function convertToInteractive(key) {\n",
              "          const element = document.querySelector('#df-40cf5b5f-c9d8-4e88-aeba-5d7025ea6c8b');\n",
              "          const dataTable =\n",
              "            await google.colab.kernel.invokeFunction('convertToInteractive',\n",
              "                                                     [key], {});\n",
              "          if (!dataTable) return;\n",
              "\n",
              "          const docLinkHtml = 'Like what you see? Visit the ' +\n",
              "            '<a target=\"_blank\" href=https://colab.research.google.com/notebooks/data_table.ipynb>data table notebook</a>'\n",
              "            + ' to learn more about interactive tables.';\n",
              "          element.innerHTML = '';\n",
              "          dataTable['output_type'] = 'display_data';\n",
              "          await google.colab.output.renderOutput(dataTable, element);\n",
              "          const docLink = document.createElement('div');\n",
              "          docLink.innerHTML = docLinkHtml;\n",
              "          element.appendChild(docLink);\n",
              "        }\n",
              "      </script>\n",
              "    </div>\n",
              "  </div>\n",
              "  "
            ]
          },
          "metadata": {},
          "execution_count": 7
        }
      ],
      "source": [
        "val_df.head()"
      ]
    },
    {
      "cell_type": "code",
      "execution_count": 8,
      "metadata": {
        "id": "gPK-67o2XF1b"
      },
      "outputs": [],
      "source": [
        "def make_data_set(df, purpose):\n",
        "\n",
        "  if purpose == 'train':\n",
        "    \n",
        "    num = 31\n",
        "\n",
        "  if purpose == 'val':\n",
        "    \n",
        "    num = 31\n",
        "\n",
        "  df = df[['index',\n",
        "           'question', 'answer']]\n",
        "\n",
        "  data_source = []\n",
        "\n",
        "  for idx in tqdm(range(df.shape[0])):\n",
        "\n",
        "\n",
        "    dict_data_source = {\n",
        "        'context':[],\n",
        "        'responses':[],\n",
        "        'labels': [1] + [0] * num\n",
        "    }\n",
        "\n",
        "    list_talk = list(df.iloc[idx])\n",
        "\n",
        "    no_nan = [i for i in list_talk if pd.isnull(i) == False]\n",
        "\n",
        "    id = no_nan[0]\n",
        "    talk = no_nan[1:-1]\n",
        "    answer = no_nan[-1]\n",
        "\n",
        "    for i in range(len(talk)):\n",
        "\n",
        "      if i % 2 == 0:\n",
        "\n",
        "        dict_data_source['context'].append('participant 1: ' + talk[i].strip())\n",
        "\n",
        "      else:\n",
        "\n",
        "        dict_data_source['context'].append('participant 2: ' + talk[i].strip())  \n",
        "\n",
        "    cond_id = (df['index']==id)\n",
        "\n",
        "    while True:\n",
        "      dict_data_source['responses'] = []\n",
        "      dict_data_source['responses'].append(answer.strip())\n",
        "\n",
        "      wrong_df = df.loc[~cond_id].sample(num)\n",
        "\n",
        "      for wrong_idx in range(num):\n",
        "\n",
        "        list_wrong = list(wrong_df.iloc[wrong_idx])\n",
        "\n",
        "        wrong_no_nan = [i for i in list_wrong if pd.isnull(i) == False]\n",
        "\n",
        "        wrong = wrong_no_nan[-1].strip()\n",
        "\n",
        "        dict_data_source['responses'].append(wrong.strip())\n",
        "\n",
        "      list_responses = dict_data_source['responses']\n",
        "\n",
        "      if len(list_responses) != len(set(list_responses)):\n",
        "\n",
        "        pass\n",
        "\n",
        "      else:\n",
        "        \n",
        "        break\n",
        "\n",
        "    data_source.append(dict_data_source)\n",
        "\n",
        "  return data_source"
      ]
    },
    {
      "cell_type": "markdown",
      "metadata": {
        "id": "AxuOn_DEcQM4"
      },
      "source": [
        "# Train_Data_Source"
      ]
    },
    {
      "cell_type": "code",
      "execution_count": 9,
      "metadata": {
        "colab": {
          "base_uri": "https://localhost:8080/"
        },
        "id": "sC3AT1RWcc_V",
        "outputId": "b8323759-d5b5-4205-dcf6-c43e70bccf40"
      },
      "outputs": [
        {
          "output_type": "stream",
          "name": "stdout",
          "text": [
            "(6538, 4)\n",
            "Index(['index', 'category', 'question', 'answer'], dtype='object')\n",
            "<class 'pandas.core.frame.DataFrame'>\n",
            "RangeIndex: 6538 entries, 0 to 6537\n",
            "Data columns (total 4 columns):\n",
            " #   Column    Non-Null Count  Dtype \n",
            "---  ------    --------------  ----- \n",
            " 0   index     6538 non-null   int64 \n",
            " 1   category  6538 non-null   object\n",
            " 2   question  6538 non-null   object\n",
            " 3   answer    6538 non-null   object\n",
            "dtypes: int64(1), object(3)\n",
            "memory usage: 204.4+ KB\n",
            "None\n"
          ]
        }
      ],
      "source": [
        "print(train_df.shape)\n",
        "print(train_df.columns)\n",
        "print(train_df.info())"
      ]
    },
    {
      "cell_type": "code",
      "execution_count": 10,
      "metadata": {
        "colab": {
          "base_uri": "https://localhost:8080/",
          "height": 49,
          "referenced_widgets": [
            "b44e84e17df24398bd5e7fbf7250ce38",
            "6672c800f6334f82a6e20a0dd949a120",
            "5f8c5a803c2c4552b1e950a059a34dd1",
            "f7034c537f1a4734b112693b21f3f197",
            "bdcbb18196ff40948e53675605c602d7",
            "89bfba9275f74773bc3f77fa13835752",
            "9c4fff6e3cd2455287cc9c2c23dd9b9a",
            "0278f0d269ff416d9e17f1b7cc86f72a",
            "e0d9429f28ec4a9c81444423dbe5e242",
            "b92e5ea6744e4b91b93113979124bff4",
            "d1ac20a7ec074d698eb7387c91925981"
          ]
        },
        "id": "JK_ATjj4cJmF",
        "outputId": "d54c300a-213d-4afe-badf-354aed8803a1"
      },
      "outputs": [
        {
          "output_type": "display_data",
          "data": {
            "text/plain": [
              "  0%|          | 0/6538 [00:00<?, ?it/s]"
            ],
            "application/vnd.jupyter.widget-view+json": {
              "version_major": 2,
              "version_minor": 0,
              "model_id": "b44e84e17df24398bd5e7fbf7250ce38"
            }
          },
          "metadata": {}
        }
      ],
      "source": [
        "train_data_source = make_data_set(train_df, purpose='train')"
      ]
    },
    {
      "cell_type": "code",
      "execution_count": null,
      "metadata": {
        "id": "yaVoRPoXdSIq"
      },
      "outputs": [],
      "source": [
        "with open('/content/drive/MyDrive/메인프로젝트(5조)/chat_bot/data/train_data_source_hogwart_final.pickle', 'wb') as fw:\n",
        "  pickle.dump(train_data_source, fw)"
      ]
    },
    {
      "cell_type": "code",
      "execution_count": null,
      "metadata": {
        "id": "hPhVGv4_fmPe"
      },
      "outputs": [],
      "source": [
        "with open('/content/drive/MyDrive/메인프로젝트(5조)/chat_bot/data/train_data_source_hogwart_final.pickle', 'rb') as fr:\n",
        "  train_data_source = pickle.load(fr)"
      ]
    },
    {
      "cell_type": "code",
      "execution_count": 11,
      "metadata": {
        "colab": {
          "base_uri": "https://localhost:8080/"
        },
        "id": "tN0xwAX5f9_t",
        "outputId": "10970d33-49c1-479b-e7c4-f14667629f9e"
      },
      "outputs": [
        {
          "output_type": "execute_result",
          "data": {
            "text/plain": [
              "{'context': ['participant 1: 저것봐 비밀의 통로야!'],\n",
              " 'responses': ['어떤 곳은 호그스미드로 간다고해. 다른 통로는 모험을 통해 찾아보면 어때?',\n",
              "  '라피포스, 더클리포스, 드라코니포스를 배운다고 알고 있어',\n",
              "  '대표적으로 움직이는 계단과 필요의 방이 있어',\n",
              "  '사실 비밀의 방은 전설일 뿐이야! 하지만 만약 찾아보겠다면 2층 복도 끝 여자화장실로 가봐.',\n",
              "  '2층으로 가봐. 그녀를 만날 수 있어.',\n",
              "  '임페디멘타를 써봐 좀 늦춰줄거야',\n",
              "  '호그스미드에 있어',\n",
              "  '볼드모트가 호그와트를 점령하고자 죽음을 먹는 자들을 이끌고 침투한 사건이 호그와트 전투야.',\n",
              "  '역대 교장들의 초상화가 걸려있어. 덤블도어는 가끔 교장 초상화에게 조언을 듣는대.',\n",
              "  '마법의 계약상, 불의 잔의 결정은 취소 못합니다.선택권이 없어요.지금부터 포터 군도 네 번째 챔피언입니다.',\n",
              "  '포피 폼프리 부인이야.',\n",
              "  '야망과 명예를 최고로 여긴다면 야심가들의 슬리데린으로 가야겠군.',\n",
              "  '어서 빨리 기숙사로 돌아가자',\n",
              "  '기본적으로 머글에 대해 잘 모르는 학생이 주 대상이지만 머글 출신인 학생들도 수강은 가능해.',\n",
              "  '호그스헤드에서 카드게임으로 얻었대',\n",
              "  '그리핀도르의 칼은 벨라트릭스 금고에 있었어.',\n",
              "  '마법 방어막을 만드는 주문이었지',\n",
              "  '호그와트는 영국인과 아일랜드인만 입학 가능해. 다른 나라 학생은 어지간해선 받지 않는데, 동양인이어도 영국 국적이라면 문제 없어.',\n",
              "  '호그와트 내에서는 순간이동이 불가능해서 매주 수업시간마다 중앙홀의 방어마법을 잠시 걷어내고 진행해.',\n",
              "  '세베루스 스네이프 교수님은 슬리데린 사감 겸 마법약 담당 교수님이야.',\n",
              "  '마법 생명체 돌보기는 수업 특성상 야외수업이 되는 경우가 많아.',\n",
              "  '호그와트의 마법약 과목 교수님이시지.',\n",
              "  '덜로리스 엄브리지 교수님과 아미쿠스 캐로 교수님이야.',\n",
              "  '매우 거대한 거미야, 집게발이 달려있고 사람 말도 할 줄 알아',\n",
              "  '호그와트는 마법사 뿐 아니라 머글들도 갈 수 있어.',\n",
              "  '어딘가로 통하는 출입구야',\n",
              "  '커스버트 빈스 교수님이야.',\n",
              "  '피니테랑 피니테 인칸타템이 있지',\n",
              "  '4학년때 우스꽝스러운 연회복을 받았지.',\n",
              "  '알로호모라!',\n",
              "  '교수님은 고블린과 마법사의 혼혈이라 그래.',\n",
              "  '온실로 가봐'],\n",
              " 'labels': [1,\n",
              "  0,\n",
              "  0,\n",
              "  0,\n",
              "  0,\n",
              "  0,\n",
              "  0,\n",
              "  0,\n",
              "  0,\n",
              "  0,\n",
              "  0,\n",
              "  0,\n",
              "  0,\n",
              "  0,\n",
              "  0,\n",
              "  0,\n",
              "  0,\n",
              "  0,\n",
              "  0,\n",
              "  0,\n",
              "  0,\n",
              "  0,\n",
              "  0,\n",
              "  0,\n",
              "  0,\n",
              "  0,\n",
              "  0,\n",
              "  0,\n",
              "  0,\n",
              "  0,\n",
              "  0,\n",
              "  0]}"
            ]
          },
          "metadata": {},
          "execution_count": 11
        }
      ],
      "source": [
        "train_data_source[700]"
      ]
    },
    {
      "cell_type": "code",
      "execution_count": 12,
      "metadata": {
        "id": "0AjHgLAfIpi4"
      },
      "outputs": [],
      "source": [
        "for i in range(len(train_data_source)):\n",
        "  if len(train_data_source[i]['responses']) != 32:\n",
        "    print(i, 'error')"
      ]
    },
    {
      "cell_type": "markdown",
      "metadata": {
        "id": "OvrE7hf0cVcz"
      },
      "source": [
        "# Val_Data_Source"
      ]
    },
    {
      "cell_type": "code",
      "execution_count": 13,
      "metadata": {
        "colab": {
          "base_uri": "https://localhost:8080/"
        },
        "id": "cgUucx07cX5u",
        "outputId": "dd2cd964-8372-4187-c50d-f88e138aa627"
      },
      "outputs": [
        {
          "output_type": "stream",
          "name": "stdout",
          "text": [
            "(6538, 4)\n",
            "Index(['index', 'category', 'question', 'answer'], dtype='object')\n",
            "<class 'pandas.core.frame.DataFrame'>\n",
            "RangeIndex: 6538 entries, 0 to 6537\n",
            "Data columns (total 4 columns):\n",
            " #   Column    Non-Null Count  Dtype \n",
            "---  ------    --------------  ----- \n",
            " 0   index     6538 non-null   int64 \n",
            " 1   category  6538 non-null   object\n",
            " 2   question  6538 non-null   object\n",
            " 3   answer    6538 non-null   object\n",
            "dtypes: int64(1), object(3)\n",
            "memory usage: 204.4+ KB\n",
            "None\n"
          ]
        }
      ],
      "source": [
        "print(val_df.shape)\n",
        "print(val_df.columns)\n",
        "print(val_df.info())"
      ]
    },
    {
      "cell_type": "code",
      "execution_count": 14,
      "metadata": {
        "colab": {
          "base_uri": "https://localhost:8080/",
          "height": 49,
          "referenced_widgets": [
            "7d949256ba884e05ac5aa3acaee4f33e",
            "0e63966f42754fdebebd7f50e7968bd6",
            "6a8610dbf02f4076844a05b75b87f494",
            "08adafbe924f4a999340a03104c45020",
            "bc540ccf21234c26a199c0876db11def",
            "ab1c03df7a0546e19455f83200a3eef3",
            "929e4ec11d91485cafabc083ea717ba5",
            "97710df649a54a4991370082e09e5761",
            "3a4007ef2b044a339f960de1203ec987",
            "cc5451e8a2f7424c85e31790046d77ad",
            "60d7d165d5484dcdb5136c932406657f"
          ]
        },
        "id": "6VrehodAcsJk",
        "outputId": "ff335d92-bfad-4d7f-b6a5-46c436d635e7"
      },
      "outputs": [
        {
          "output_type": "display_data",
          "data": {
            "text/plain": [
              "  0%|          | 0/6538 [00:00<?, ?it/s]"
            ],
            "application/vnd.jupyter.widget-view+json": {
              "version_major": 2,
              "version_minor": 0,
              "model_id": "7d949256ba884e05ac5aa3acaee4f33e"
            }
          },
          "metadata": {}
        }
      ],
      "source": [
        "val_data_source = make_data_set(val_df, purpose='val')"
      ]
    },
    {
      "cell_type": "code",
      "execution_count": null,
      "metadata": {
        "id": "WoWYfJmLdfFi"
      },
      "outputs": [],
      "source": [
        "with open('/content/drive/MyDrive/메인프로젝트(5조)/chat_bot/data/dev_data_source_hogwart_final.pickle', 'wb') as fw:\n",
        "  pickle.dump(val_data_source, fw)"
      ]
    },
    {
      "cell_type": "code",
      "execution_count": null,
      "metadata": {
        "id": "bck3yBACgCRA"
      },
      "outputs": [],
      "source": [
        "with open('/content/drive/MyDrive/메인프로젝트(5조)/chat_bot/data/dev_data_source_hogwart_final.pickle', 'rb') as fr:\n",
        "  val_data_source = pickle.load(fr)"
      ]
    },
    {
      "cell_type": "code",
      "execution_count": 15,
      "metadata": {
        "colab": {
          "base_uri": "https://localhost:8080/"
        },
        "id": "HIB4tJdVJQe6",
        "outputId": "5787b82d-8b4b-4dbf-a1db-efac864cc170"
      },
      "outputs": [
        {
          "output_type": "execute_result",
          "data": {
            "text/plain": [
              "{'context': ['participant 1: 호그와트는 어떤 학교야?'],\n",
              " 'responses': ['만 11~18세까지의 청소년 마법사를 교육하는 7학년제 영국의 유일한 마법 학교야.',\n",
              "  '맥고나걸 교수님이야.',\n",
              "  '호그와트의 정문에는 날개달린 멧돼지상이 있고 서쪽으로는 금지된 숲, 동쪽으로는 퀴디치 경기장, 남쪽으로는 호수, 학교 뒷편으로는 온실이 있고 호그스미드의 오두막집과 연결되는 움직이는 커다란 버드나무가 있어.',\n",
              "  '비밀의 방은 2층 모우닝 머틀의 화장실 세면대를 통해서 아래로 내려가면 돼.',\n",
              "  '볼드모트가 호그와트를 점령하고자 죽음을 먹는 자들을 이끌고 침투한 사건이 호그와트 전투야.',\n",
              "  '저기봐! 빗자루가 있어.',\n",
              "  '임페디멘타, 이부빌로, 잉고르지오 스컬러스, 리닥텀 스컬러스를 배워',\n",
              "  '호그와트의 창시자는 총 4명이야',\n",
              "  '호그와트의 가고일 동상을 찾아봐. 정확한 암호는 필수야.',\n",
              "  '연회장으로 가겠구나',\n",
              "  '어두운 회색 연기를 만들어서 상대편 마법사가 날 보기 힘들게 만들어',\n",
              "  '트릴로니가 헤르미온느에게 \" 네가 이 강의실에 들어왔을 때부터 느꼈지만 넌 점술이라는 고상한 학문엔 소질이 없다는걸 알았단다. 자, 봐라 나이는 어려도 영혼은 찌들렸고 영혼도 네가 집착하는 저 책처럼 말라 비틀어졌잖니. \"라는 악평을 들었기 때문이지.',\n",
              "  '기타 과목에서 순간이동, 연금술, 고대 마법은 6학년 이상만 들을 수 있어.',\n",
              "  '그리핀도르 휴게실의 벽난로야.',\n",
              "  '숲이나 온실에서 해.',\n",
              "  '비밀의 방은 톰리들이 열었어',\n",
              "  '입학은 호그와트의 작은 탑에 놓여 있는 오래된 검은 책과 비어 있는 은색 잉크병, 기다란 깃펜으로 결정돼.',\n",
              "  '시빌 트릴로니 교수님이야.',\n",
              "  '2층으로 가봐. 그녀를 만날 수 있어.',\n",
              "  '숙제를 하거나 담소를 나누고 체스도 두지!',\n",
              "  '호그와트 안에서 위험한 곳은 금지된 숲, 3층 출입금지구역이 있어.',\n",
              "  '응 아니야 베라 베어토야',\n",
              "  '나무 뿌리 틈에 악을 쓰는 오두막으로 가는 비밀통로가 있어',\n",
              "  '교수님은 당연히 마법약은 압도적이시고, 오클루먼시 마법은 볼드모트한테 저항할 수 있을 정도지.',\n",
              "  '별들의 움직임을 보고 현재 일어나고 있는 일들을 파악하는 것을 배워.',\n",
              "  '베라 베어토, 멀티코포스, 레파리파지를 배울껄?',\n",
              "  '오로라 시니스트라 교수님은 천문학 교수님 이고, 래번클로의 사감이었으나 결혼을 해서 사감직을 내려놨어.',\n",
              "  'O.W.L. 시험은 어렵고 준비하는 일이 굉장히 힘들어서 보통 4학년 때부터 준비해.',\n",
              "  '무언가 반짝반짝 거리는 새들이 가득한 이상한 방이 나와.',\n",
              "  '별 차이 없다는데?',\n",
              "  '알버스 덤블도어, 미네르바 맥고나걸',\n",
              "  '비행수업은 야외수업으로 빗자루를 다루는 방법에 대해서 배울 수 있어.'],\n",
              " 'labels': [1,\n",
              "  0,\n",
              "  0,\n",
              "  0,\n",
              "  0,\n",
              "  0,\n",
              "  0,\n",
              "  0,\n",
              "  0,\n",
              "  0,\n",
              "  0,\n",
              "  0,\n",
              "  0,\n",
              "  0,\n",
              "  0,\n",
              "  0,\n",
              "  0,\n",
              "  0,\n",
              "  0,\n",
              "  0,\n",
              "  0,\n",
              "  0,\n",
              "  0,\n",
              "  0,\n",
              "  0,\n",
              "  0,\n",
              "  0,\n",
              "  0,\n",
              "  0,\n",
              "  0,\n",
              "  0,\n",
              "  0]}"
            ]
          },
          "metadata": {},
          "execution_count": 15
        }
      ],
      "source": [
        "val_data_source[0]"
      ]
    },
    {
      "cell_type": "code",
      "execution_count": 16,
      "metadata": {
        "id": "UAVXTLHAgDkh"
      },
      "outputs": [],
      "source": [
        "for i in range(len(val_data_source)):\n",
        "  if len(val_data_source[i]['responses']) != 32:\n",
        "    print(i, 'error')"
      ]
    },
    {
      "cell_type": "code",
      "execution_count": null,
      "metadata": {
        "id": "tRgIEIml9NRw"
      },
      "outputs": [],
      "source": []
    }
  ],
  "metadata": {
    "colab": {
      "provenance": []
    },
    "kernelspec": {
      "display_name": "Python 3.8.13 ('potential')",
      "language": "python",
      "name": "python3"
    },
    "language_info": {
      "codemirror_mode": {
        "name": "ipython",
        "version": 3
      },
      "file_extension": ".py",
      "mimetype": "text/x-python",
      "name": "python",
      "nbconvert_exporter": "python",
      "pygments_lexer": "ipython3",
      "version": "3.8.13"
    },
    "vscode": {
      "interpreter": {
        "hash": "cdb502bb311110e971113c164879a0b7e66a94b0ea53ceb8ff8b66416f1dec4c"
      }
    },
    "widgets": {
      "application/vnd.jupyter.widget-state+json": {
        "b44e84e17df24398bd5e7fbf7250ce38": {
          "model_module": "@jupyter-widgets/controls",
          "model_name": "HBoxModel",
          "model_module_version": "1.5.0",
          "state": {
            "_dom_classes": [],
            "_model_module": "@jupyter-widgets/controls",
            "_model_module_version": "1.5.0",
            "_model_name": "HBoxModel",
            "_view_count": null,
            "_view_module": "@jupyter-widgets/controls",
            "_view_module_version": "1.5.0",
            "_view_name": "HBoxView",
            "box_style": "",
            "children": [
              "IPY_MODEL_6672c800f6334f82a6e20a0dd949a120",
              "IPY_MODEL_5f8c5a803c2c4552b1e950a059a34dd1",
              "IPY_MODEL_f7034c537f1a4734b112693b21f3f197"
            ],
            "layout": "IPY_MODEL_bdcbb18196ff40948e53675605c602d7"
          }
        },
        "6672c800f6334f82a6e20a0dd949a120": {
          "model_module": "@jupyter-widgets/controls",
          "model_name": "HTMLModel",
          "model_module_version": "1.5.0",
          "state": {
            "_dom_classes": [],
            "_model_module": "@jupyter-widgets/controls",
            "_model_module_version": "1.5.0",
            "_model_name": "HTMLModel",
            "_view_count": null,
            "_view_module": "@jupyter-widgets/controls",
            "_view_module_version": "1.5.0",
            "_view_name": "HTMLView",
            "description": "",
            "description_tooltip": null,
            "layout": "IPY_MODEL_89bfba9275f74773bc3f77fa13835752",
            "placeholder": "​",
            "style": "IPY_MODEL_9c4fff6e3cd2455287cc9c2c23dd9b9a",
            "value": "100%"
          }
        },
        "5f8c5a803c2c4552b1e950a059a34dd1": {
          "model_module": "@jupyter-widgets/controls",
          "model_name": "FloatProgressModel",
          "model_module_version": "1.5.0",
          "state": {
            "_dom_classes": [],
            "_model_module": "@jupyter-widgets/controls",
            "_model_module_version": "1.5.0",
            "_model_name": "FloatProgressModel",
            "_view_count": null,
            "_view_module": "@jupyter-widgets/controls",
            "_view_module_version": "1.5.0",
            "_view_name": "ProgressView",
            "bar_style": "success",
            "description": "",
            "description_tooltip": null,
            "layout": "IPY_MODEL_0278f0d269ff416d9e17f1b7cc86f72a",
            "max": 6538,
            "min": 0,
            "orientation": "horizontal",
            "style": "IPY_MODEL_e0d9429f28ec4a9c81444423dbe5e242",
            "value": 6538
          }
        },
        "f7034c537f1a4734b112693b21f3f197": {
          "model_module": "@jupyter-widgets/controls",
          "model_name": "HTMLModel",
          "model_module_version": "1.5.0",
          "state": {
            "_dom_classes": [],
            "_model_module": "@jupyter-widgets/controls",
            "_model_module_version": "1.5.0",
            "_model_name": "HTMLModel",
            "_view_count": null,
            "_view_module": "@jupyter-widgets/controls",
            "_view_module_version": "1.5.0",
            "_view_name": "HTMLView",
            "description": "",
            "description_tooltip": null,
            "layout": "IPY_MODEL_b92e5ea6744e4b91b93113979124bff4",
            "placeholder": "​",
            "style": "IPY_MODEL_d1ac20a7ec074d698eb7387c91925981",
            "value": " 6538/6538 [00:51&lt;00:00, 136.87it/s]"
          }
        },
        "bdcbb18196ff40948e53675605c602d7": {
          "model_module": "@jupyter-widgets/base",
          "model_name": "LayoutModel",
          "model_module_version": "1.2.0",
          "state": {
            "_model_module": "@jupyter-widgets/base",
            "_model_module_version": "1.2.0",
            "_model_name": "LayoutModel",
            "_view_count": null,
            "_view_module": "@jupyter-widgets/base",
            "_view_module_version": "1.2.0",
            "_view_name": "LayoutView",
            "align_content": null,
            "align_items": null,
            "align_self": null,
            "border": null,
            "bottom": null,
            "display": null,
            "flex": null,
            "flex_flow": null,
            "grid_area": null,
            "grid_auto_columns": null,
            "grid_auto_flow": null,
            "grid_auto_rows": null,
            "grid_column": null,
            "grid_gap": null,
            "grid_row": null,
            "grid_template_areas": null,
            "grid_template_columns": null,
            "grid_template_rows": null,
            "height": null,
            "justify_content": null,
            "justify_items": null,
            "left": null,
            "margin": null,
            "max_height": null,
            "max_width": null,
            "min_height": null,
            "min_width": null,
            "object_fit": null,
            "object_position": null,
            "order": null,
            "overflow": null,
            "overflow_x": null,
            "overflow_y": null,
            "padding": null,
            "right": null,
            "top": null,
            "visibility": null,
            "width": null
          }
        },
        "89bfba9275f74773bc3f77fa13835752": {
          "model_module": "@jupyter-widgets/base",
          "model_name": "LayoutModel",
          "model_module_version": "1.2.0",
          "state": {
            "_model_module": "@jupyter-widgets/base",
            "_model_module_version": "1.2.0",
            "_model_name": "LayoutModel",
            "_view_count": null,
            "_view_module": "@jupyter-widgets/base",
            "_view_module_version": "1.2.0",
            "_view_name": "LayoutView",
            "align_content": null,
            "align_items": null,
            "align_self": null,
            "border": null,
            "bottom": null,
            "display": null,
            "flex": null,
            "flex_flow": null,
            "grid_area": null,
            "grid_auto_columns": null,
            "grid_auto_flow": null,
            "grid_auto_rows": null,
            "grid_column": null,
            "grid_gap": null,
            "grid_row": null,
            "grid_template_areas": null,
            "grid_template_columns": null,
            "grid_template_rows": null,
            "height": null,
            "justify_content": null,
            "justify_items": null,
            "left": null,
            "margin": null,
            "max_height": null,
            "max_width": null,
            "min_height": null,
            "min_width": null,
            "object_fit": null,
            "object_position": null,
            "order": null,
            "overflow": null,
            "overflow_x": null,
            "overflow_y": null,
            "padding": null,
            "right": null,
            "top": null,
            "visibility": null,
            "width": null
          }
        },
        "9c4fff6e3cd2455287cc9c2c23dd9b9a": {
          "model_module": "@jupyter-widgets/controls",
          "model_name": "DescriptionStyleModel",
          "model_module_version": "1.5.0",
          "state": {
            "_model_module": "@jupyter-widgets/controls",
            "_model_module_version": "1.5.0",
            "_model_name": "DescriptionStyleModel",
            "_view_count": null,
            "_view_module": "@jupyter-widgets/base",
            "_view_module_version": "1.2.0",
            "_view_name": "StyleView",
            "description_width": ""
          }
        },
        "0278f0d269ff416d9e17f1b7cc86f72a": {
          "model_module": "@jupyter-widgets/base",
          "model_name": "LayoutModel",
          "model_module_version": "1.2.0",
          "state": {
            "_model_module": "@jupyter-widgets/base",
            "_model_module_version": "1.2.0",
            "_model_name": "LayoutModel",
            "_view_count": null,
            "_view_module": "@jupyter-widgets/base",
            "_view_module_version": "1.2.0",
            "_view_name": "LayoutView",
            "align_content": null,
            "align_items": null,
            "align_self": null,
            "border": null,
            "bottom": null,
            "display": null,
            "flex": null,
            "flex_flow": null,
            "grid_area": null,
            "grid_auto_columns": null,
            "grid_auto_flow": null,
            "grid_auto_rows": null,
            "grid_column": null,
            "grid_gap": null,
            "grid_row": null,
            "grid_template_areas": null,
            "grid_template_columns": null,
            "grid_template_rows": null,
            "height": null,
            "justify_content": null,
            "justify_items": null,
            "left": null,
            "margin": null,
            "max_height": null,
            "max_width": null,
            "min_height": null,
            "min_width": null,
            "object_fit": null,
            "object_position": null,
            "order": null,
            "overflow": null,
            "overflow_x": null,
            "overflow_y": null,
            "padding": null,
            "right": null,
            "top": null,
            "visibility": null,
            "width": null
          }
        },
        "e0d9429f28ec4a9c81444423dbe5e242": {
          "model_module": "@jupyter-widgets/controls",
          "model_name": "ProgressStyleModel",
          "model_module_version": "1.5.0",
          "state": {
            "_model_module": "@jupyter-widgets/controls",
            "_model_module_version": "1.5.0",
            "_model_name": "ProgressStyleModel",
            "_view_count": null,
            "_view_module": "@jupyter-widgets/base",
            "_view_module_version": "1.2.0",
            "_view_name": "StyleView",
            "bar_color": null,
            "description_width": ""
          }
        },
        "b92e5ea6744e4b91b93113979124bff4": {
          "model_module": "@jupyter-widgets/base",
          "model_name": "LayoutModel",
          "model_module_version": "1.2.0",
          "state": {
            "_model_module": "@jupyter-widgets/base",
            "_model_module_version": "1.2.0",
            "_model_name": "LayoutModel",
            "_view_count": null,
            "_view_module": "@jupyter-widgets/base",
            "_view_module_version": "1.2.0",
            "_view_name": "LayoutView",
            "align_content": null,
            "align_items": null,
            "align_self": null,
            "border": null,
            "bottom": null,
            "display": null,
            "flex": null,
            "flex_flow": null,
            "grid_area": null,
            "grid_auto_columns": null,
            "grid_auto_flow": null,
            "grid_auto_rows": null,
            "grid_column": null,
            "grid_gap": null,
            "grid_row": null,
            "grid_template_areas": null,
            "grid_template_columns": null,
            "grid_template_rows": null,
            "height": null,
            "justify_content": null,
            "justify_items": null,
            "left": null,
            "margin": null,
            "max_height": null,
            "max_width": null,
            "min_height": null,
            "min_width": null,
            "object_fit": null,
            "object_position": null,
            "order": null,
            "overflow": null,
            "overflow_x": null,
            "overflow_y": null,
            "padding": null,
            "right": null,
            "top": null,
            "visibility": null,
            "width": null
          }
        },
        "d1ac20a7ec074d698eb7387c91925981": {
          "model_module": "@jupyter-widgets/controls",
          "model_name": "DescriptionStyleModel",
          "model_module_version": "1.5.0",
          "state": {
            "_model_module": "@jupyter-widgets/controls",
            "_model_module_version": "1.5.0",
            "_model_name": "DescriptionStyleModel",
            "_view_count": null,
            "_view_module": "@jupyter-widgets/base",
            "_view_module_version": "1.2.0",
            "_view_name": "StyleView",
            "description_width": ""
          }
        },
        "7d949256ba884e05ac5aa3acaee4f33e": {
          "model_module": "@jupyter-widgets/controls",
          "model_name": "HBoxModel",
          "model_module_version": "1.5.0",
          "state": {
            "_dom_classes": [],
            "_model_module": "@jupyter-widgets/controls",
            "_model_module_version": "1.5.0",
            "_model_name": "HBoxModel",
            "_view_count": null,
            "_view_module": "@jupyter-widgets/controls",
            "_view_module_version": "1.5.0",
            "_view_name": "HBoxView",
            "box_style": "",
            "children": [
              "IPY_MODEL_0e63966f42754fdebebd7f50e7968bd6",
              "IPY_MODEL_6a8610dbf02f4076844a05b75b87f494",
              "IPY_MODEL_08adafbe924f4a999340a03104c45020"
            ],
            "layout": "IPY_MODEL_bc540ccf21234c26a199c0876db11def"
          }
        },
        "0e63966f42754fdebebd7f50e7968bd6": {
          "model_module": "@jupyter-widgets/controls",
          "model_name": "HTMLModel",
          "model_module_version": "1.5.0",
          "state": {
            "_dom_classes": [],
            "_model_module": "@jupyter-widgets/controls",
            "_model_module_version": "1.5.0",
            "_model_name": "HTMLModel",
            "_view_count": null,
            "_view_module": "@jupyter-widgets/controls",
            "_view_module_version": "1.5.0",
            "_view_name": "HTMLView",
            "description": "",
            "description_tooltip": null,
            "layout": "IPY_MODEL_ab1c03df7a0546e19455f83200a3eef3",
            "placeholder": "​",
            "style": "IPY_MODEL_929e4ec11d91485cafabc083ea717ba5",
            "value": "100%"
          }
        },
        "6a8610dbf02f4076844a05b75b87f494": {
          "model_module": "@jupyter-widgets/controls",
          "model_name": "FloatProgressModel",
          "model_module_version": "1.5.0",
          "state": {
            "_dom_classes": [],
            "_model_module": "@jupyter-widgets/controls",
            "_model_module_version": "1.5.0",
            "_model_name": "FloatProgressModel",
            "_view_count": null,
            "_view_module": "@jupyter-widgets/controls",
            "_view_module_version": "1.5.0",
            "_view_name": "ProgressView",
            "bar_style": "success",
            "description": "",
            "description_tooltip": null,
            "layout": "IPY_MODEL_97710df649a54a4991370082e09e5761",
            "max": 6538,
            "min": 0,
            "orientation": "horizontal",
            "style": "IPY_MODEL_3a4007ef2b044a339f960de1203ec987",
            "value": 6538
          }
        },
        "08adafbe924f4a999340a03104c45020": {
          "model_module": "@jupyter-widgets/controls",
          "model_name": "HTMLModel",
          "model_module_version": "1.5.0",
          "state": {
            "_dom_classes": [],
            "_model_module": "@jupyter-widgets/controls",
            "_model_module_version": "1.5.0",
            "_model_name": "HTMLModel",
            "_view_count": null,
            "_view_module": "@jupyter-widgets/controls",
            "_view_module_version": "1.5.0",
            "_view_name": "HTMLView",
            "description": "",
            "description_tooltip": null,
            "layout": "IPY_MODEL_cc5451e8a2f7424c85e31790046d77ad",
            "placeholder": "​",
            "style": "IPY_MODEL_60d7d165d5484dcdb5136c932406657f",
            "value": " 6538/6538 [00:49&lt;00:00, 166.07it/s]"
          }
        },
        "bc540ccf21234c26a199c0876db11def": {
          "model_module": "@jupyter-widgets/base",
          "model_name": "LayoutModel",
          "model_module_version": "1.2.0",
          "state": {
            "_model_module": "@jupyter-widgets/base",
            "_model_module_version": "1.2.0",
            "_model_name": "LayoutModel",
            "_view_count": null,
            "_view_module": "@jupyter-widgets/base",
            "_view_module_version": "1.2.0",
            "_view_name": "LayoutView",
            "align_content": null,
            "align_items": null,
            "align_self": null,
            "border": null,
            "bottom": null,
            "display": null,
            "flex": null,
            "flex_flow": null,
            "grid_area": null,
            "grid_auto_columns": null,
            "grid_auto_flow": null,
            "grid_auto_rows": null,
            "grid_column": null,
            "grid_gap": null,
            "grid_row": null,
            "grid_template_areas": null,
            "grid_template_columns": null,
            "grid_template_rows": null,
            "height": null,
            "justify_content": null,
            "justify_items": null,
            "left": null,
            "margin": null,
            "max_height": null,
            "max_width": null,
            "min_height": null,
            "min_width": null,
            "object_fit": null,
            "object_position": null,
            "order": null,
            "overflow": null,
            "overflow_x": null,
            "overflow_y": null,
            "padding": null,
            "right": null,
            "top": null,
            "visibility": null,
            "width": null
          }
        },
        "ab1c03df7a0546e19455f83200a3eef3": {
          "model_module": "@jupyter-widgets/base",
          "model_name": "LayoutModel",
          "model_module_version": "1.2.0",
          "state": {
            "_model_module": "@jupyter-widgets/base",
            "_model_module_version": "1.2.0",
            "_model_name": "LayoutModel",
            "_view_count": null,
            "_view_module": "@jupyter-widgets/base",
            "_view_module_version": "1.2.0",
            "_view_name": "LayoutView",
            "align_content": null,
            "align_items": null,
            "align_self": null,
            "border": null,
            "bottom": null,
            "display": null,
            "flex": null,
            "flex_flow": null,
            "grid_area": null,
            "grid_auto_columns": null,
            "grid_auto_flow": null,
            "grid_auto_rows": null,
            "grid_column": null,
            "grid_gap": null,
            "grid_row": null,
            "grid_template_areas": null,
            "grid_template_columns": null,
            "grid_template_rows": null,
            "height": null,
            "justify_content": null,
            "justify_items": null,
            "left": null,
            "margin": null,
            "max_height": null,
            "max_width": null,
            "min_height": null,
            "min_width": null,
            "object_fit": null,
            "object_position": null,
            "order": null,
            "overflow": null,
            "overflow_x": null,
            "overflow_y": null,
            "padding": null,
            "right": null,
            "top": null,
            "visibility": null,
            "width": null
          }
        },
        "929e4ec11d91485cafabc083ea717ba5": {
          "model_module": "@jupyter-widgets/controls",
          "model_name": "DescriptionStyleModel",
          "model_module_version": "1.5.0",
          "state": {
            "_model_module": "@jupyter-widgets/controls",
            "_model_module_version": "1.5.0",
            "_model_name": "DescriptionStyleModel",
            "_view_count": null,
            "_view_module": "@jupyter-widgets/base",
            "_view_module_version": "1.2.0",
            "_view_name": "StyleView",
            "description_width": ""
          }
        },
        "97710df649a54a4991370082e09e5761": {
          "model_module": "@jupyter-widgets/base",
          "model_name": "LayoutModel",
          "model_module_version": "1.2.0",
          "state": {
            "_model_module": "@jupyter-widgets/base",
            "_model_module_version": "1.2.0",
            "_model_name": "LayoutModel",
            "_view_count": null,
            "_view_module": "@jupyter-widgets/base",
            "_view_module_version": "1.2.0",
            "_view_name": "LayoutView",
            "align_content": null,
            "align_items": null,
            "align_self": null,
            "border": null,
            "bottom": null,
            "display": null,
            "flex": null,
            "flex_flow": null,
            "grid_area": null,
            "grid_auto_columns": null,
            "grid_auto_flow": null,
            "grid_auto_rows": null,
            "grid_column": null,
            "grid_gap": null,
            "grid_row": null,
            "grid_template_areas": null,
            "grid_template_columns": null,
            "grid_template_rows": null,
            "height": null,
            "justify_content": null,
            "justify_items": null,
            "left": null,
            "margin": null,
            "max_height": null,
            "max_width": null,
            "min_height": null,
            "min_width": null,
            "object_fit": null,
            "object_position": null,
            "order": null,
            "overflow": null,
            "overflow_x": null,
            "overflow_y": null,
            "padding": null,
            "right": null,
            "top": null,
            "visibility": null,
            "width": null
          }
        },
        "3a4007ef2b044a339f960de1203ec987": {
          "model_module": "@jupyter-widgets/controls",
          "model_name": "ProgressStyleModel",
          "model_module_version": "1.5.0",
          "state": {
            "_model_module": "@jupyter-widgets/controls",
            "_model_module_version": "1.5.0",
            "_model_name": "ProgressStyleModel",
            "_view_count": null,
            "_view_module": "@jupyter-widgets/base",
            "_view_module_version": "1.2.0",
            "_view_name": "StyleView",
            "bar_color": null,
            "description_width": ""
          }
        },
        "cc5451e8a2f7424c85e31790046d77ad": {
          "model_module": "@jupyter-widgets/base",
          "model_name": "LayoutModel",
          "model_module_version": "1.2.0",
          "state": {
            "_model_module": "@jupyter-widgets/base",
            "_model_module_version": "1.2.0",
            "_model_name": "LayoutModel",
            "_view_count": null,
            "_view_module": "@jupyter-widgets/base",
            "_view_module_version": "1.2.0",
            "_view_name": "LayoutView",
            "align_content": null,
            "align_items": null,
            "align_self": null,
            "border": null,
            "bottom": null,
            "display": null,
            "flex": null,
            "flex_flow": null,
            "grid_area": null,
            "grid_auto_columns": null,
            "grid_auto_flow": null,
            "grid_auto_rows": null,
            "grid_column": null,
            "grid_gap": null,
            "grid_row": null,
            "grid_template_areas": null,
            "grid_template_columns": null,
            "grid_template_rows": null,
            "height": null,
            "justify_content": null,
            "justify_items": null,
            "left": null,
            "margin": null,
            "max_height": null,
            "max_width": null,
            "min_height": null,
            "min_width": null,
            "object_fit": null,
            "object_position": null,
            "order": null,
            "overflow": null,
            "overflow_x": null,
            "overflow_y": null,
            "padding": null,
            "right": null,
            "top": null,
            "visibility": null,
            "width": null
          }
        },
        "60d7d165d5484dcdb5136c932406657f": {
          "model_module": "@jupyter-widgets/controls",
          "model_name": "DescriptionStyleModel",
          "model_module_version": "1.5.0",
          "state": {
            "_model_module": "@jupyter-widgets/controls",
            "_model_module_version": "1.5.0",
            "_model_name": "DescriptionStyleModel",
            "_view_count": null,
            "_view_module": "@jupyter-widgets/base",
            "_view_module_version": "1.2.0",
            "_view_name": "StyleView",
            "description_width": ""
          }
        }
      }
    },
    "accelerator": "GPU",
    "gpuClass": "standard"
  },
  "nbformat": 4,
  "nbformat_minor": 0
}